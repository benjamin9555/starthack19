{
 "cells": [
  {
   "cell_type": "code",
   "execution_count": 22,
   "metadata": {},
   "outputs": [],
   "source": [
    "import pandas as pd\n",
    "import os\n",
    "import glob"
   ]
  },
  {
   "cell_type": "code",
   "execution_count": 25,
   "metadata": {},
   "outputs": [],
   "source": [
    "def load_csvs(dir_car, dir_watch):\n",
    "    \"\"\" load all data from csv files\n",
    "    \n",
    "    we assume that the directories contain only the desired files\n",
    "\n",
    "    Parameters\n",
    "    ----------\n",
    "    dir : string\n",
    "        \n",
    "\n",
    "    Returns\n",
    "    -------\n",
    "    pandas DataFrame\n",
    "\n",
    "    \"\"\"\n",
    "    print(os.getcwd())\n",
    "    os.chdir(dir_car)\n",
    "    files = [i for i in glob.glob('*_DataGroup_*.csv')]\n",
    "    print(files)\n",
    "    \n",
    "    return None"
   ]
  },
  {
   "cell_type": "code",
   "execution_count": 26,
   "metadata": {},
   "outputs": [
    {
     "name": "stdout",
     "output_type": "stream",
     "text": [
      "/Users/benjamin/code/starthack19\n",
      "[]\n"
     ]
    }
   ],
   "source": [
    "# absolut base_dir\n",
    "base_dir = '/Users/benjamin/code/starthack19/'\n",
    "os.chdir(base_dir)\n",
    "golden_table = load_csvs(os.path.join(base_dir, 'data/for_demo/car'), os.path.join(base_dir, 'data/for_demo/watch'))"
   ]
  },
  {
   "cell_type": "code",
   "execution_count": null,
   "metadata": {},
   "outputs": [],
   "source": []
  }
 ],
 "metadata": {
  "kernelspec": {
   "display_name": "Python 3",
   "language": "python",
   "name": "python3"
  },
  "language_info": {
   "codemirror_mode": {
    "name": "ipython",
    "version": 3
   },
   "file_extension": ".py",
   "mimetype": "text/x-python",
   "name": "python",
   "nbconvert_exporter": "python",
   "pygments_lexer": "ipython3",
   "version": "3.6.5"
  }
 },
 "nbformat": 4,
 "nbformat_minor": 2
}
